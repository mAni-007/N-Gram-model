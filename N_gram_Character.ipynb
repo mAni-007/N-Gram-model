{
 "cells": [
  {
   "cell_type": "code",
   "execution_count": 2,
   "metadata": {
    "colab": {},
    "colab_type": "code",
    "id": "atwxbg0ynXfj"
   },
   "outputs": [],
   "source": [
    "import random"
   ]
  },
  {
   "cell_type": "code",
   "execution_count": 3,
   "metadata": {
    "colab": {},
    "colab_type": "code",
    "id": "8HEACb9BnkzC"
   },
   "outputs": [],
   "source": [
    "text = \"\"\"Sometimes, air pollution is visible. A person can see dark smoke pour from the exhaust pipes of large trucks or factories, for example. More often, however, air pollution is invisible.\n",
    "\n",
    "Polluted air can be dangerous, even if the pollutants are invisible. It can make people’s eyes burn and make them have difficulty breathing. It can also increase the risk of lung cancer.\n",
    "\n",
    "Sometimes, air pollution kills quickly. In 1984, an accident at a pesticide plant in Bhopal, India, released a deadly gas into the air. At least 8,000 people died within days. Hundreds of thousands more were permanently injured.\n",
    "\n",
    "Natural disasters can also cause air pollution to increase quickly. When volcanoes erupt, they eject volcanic ash and gases into the atmosphere. Volcanic ash can discolor the sky for months. After the eruption of the Indonesian volcano of Krakatoa in 1883, ash darkened the sky around the world. The dimmer sky caused fewer crops to be harvested as far away as Europe and North America. For years, meteorologists tracked what was known as the “equatorial smoke stream.” In fact, this smoke stream was a jet stream, a wind high in Earth’s atmosphere that Krakatoa’s air pollution made visible.\n",
    "\n",
    "Volcanic gases, such as sulfur dioxide, can kill nearby residents and make the soil infertile for years. Mount Vesuvius, a volcano in Italy, famously erupted in 79, killing hundreds of residents of the nearby towns of Pompeii and Herculaneum. Most victims of Vesuvius were not killed by lava or landslides caused by the eruption. They were choked, or asphyxiated, by deadly volcanic gases.\n",
    "\n",
    "In 1986, a toxic cloud developed over Lake Nyos, Cameroon. Lake Nyos sits in the crater of a volcano. Though the volcano did not erupt, it did eject volcanic gases into the lake. The heated gases passed through the water of the lake and collected as a cloud that descended the slopes of the volcano and into nearby valleys. As the toxic cloud moved across the landscape, it killed birds and other organisms in their natural habitat. This air pollution also killed thousands of cattle and as many as 1,700 people.\n",
    "\n",
    "Most air pollution is not natural, however. It comes from burning fossil fuels—coal, oil, and natural gas. When gasoline is burned to power cars and trucks, it produces carbon monoxide, a colorless, odorless gas. The gas is harmful in high concentrations, or amounts. City traffic produces highly concentrated carbon monoxide.\n",
    "\n",
    "Cars and factories produce other common pollutants, including nitrogen oxide, sulfur dioxide, and hydrocarbons. These chemicals react with sunlight to produce smog, a thick fog or haze of air pollution. The smog is so thick in Linfen, China, that people can seldom see the sun. Smog can be brown or grayish blue, depending on which pollutants are in it.\n",
    "\n",
    "Smog makes breathing difficult, especially for children and older adults. Some cities that suffer from extreme smog issue air pollution warnings. The government of Hong Kong, for example, will warn people not to go outside or engage in strenuous physical activity (such as running or swimming) when smog is very thick.\n",
    "\n",
    "When air pollutants such as nitrogen oxide and sulfur dioxide mix with moisture, they change into acids. They then fall back to earth as acid rain. Wind often carries acid rain far from the pollution source. Pollutants produced by factories and power plants in Spain can fall as acid rain in Norway.\n",
    "\n",
    "Acid rain can kill all the trees in a forest. It can also devastate lakes, streams, and other waterways. When lakes become acidic, fish can’t survive. In Sweden, acid rain created thousands of “dead lakes,” where fish no longer live.\n",
    "\n",
    "Acid rain also wears away marble and other kinds of stone. It has erased the words on gravestones and damaged many historic buildings and monuments. The Taj Mahal, in Agra, India, was once gleaming white. Years of exposure to acid rain has left it pale.\n",
    "\n",
    "Governments have tried to prevent acid rain by limiting the amount of pollutants released into the air. In Europe and North America, they have had some success, but acid rain remains a major problem in the developing world, especially Asia.  \n",
    "\n",
    "Greenhouse gases are another source of air pollution. Greenhouse gases such as carbon dioxide and methane occur naturally in the atmosphere. In fact, they are necessary for life on Earth. They absorb sunlight reflected from Earth, preventing it from escaping into space. By trapping heat in the atmosphere, they keep Earth warm enough for people to live. This is called the greenhouse effect.\n",
    "\n",
    "But human activities such as burning fossil fuels and destroying forests have increased the amount of greenhouse gases in the atmosphere. This has increased the greenhouse effect, and average temperatures across the globe are rising. The decade that began in the year 2000 was the warmest on record. This increase in worldwide average temperatures, caused in part by human activity, is called global warming.\n",
    "\n",
    "Global warming is causing ice sheets and glaciers to melt. The melting ice is causing sea levels to rise at a rate of 2 millimeters (0.09 inches) per year. The rising seas will eventually flood low-lying coastal regions. Entire nations, such as the islands of Maldives, are threatened by this climate change.\n",
    "\n",
    "Global warming also contributes to the phenomenon of ocean acidification. Ocean acidification is the process of ocean waters absorbing more carbon dioxide from the atmosphere. Fewer organisms can survive in warmer, less salty waters. The ocean food web is threatened as plants and animals such as coral fail to adapt to more acidic oceans.\n",
    "\n",
    "Scientists have predicted that global warming will cause an increase in severe storms. It will also cause more droughts in some regions and more flooding in others.\n",
    "\n",
    "The change in average temperatures is already shrinking some habitats, the regions where plants and animals naturally live. Polar bears hunt seals from sea ice in the Arctic. The melting ice is forcing polar bears to travel farther to find food, and their numbers are shrinking.\n",
    "\n",
    "People and governments can respond quickly and effectively to reduce air pollution. Chemicals called chlorofluorocarbons (CFCs) are a dangerous form of air pollution that governments worked to reduce in the 1980s and 1990s. CFCs are found in gases that cool refrigerators, in foam products, and in aerosol cans.\n",
    "\n",
    "CFCs damage the ozone layer, a region in Earth’s upper atmosphere. The ozone layer protects Earth by absorbing much of the sun’s harmful ultraviolet radiation. When people are exposed to more ultraviolet radiation, they are more likely to develop skin cancer, eye diseases, and other illnesses.\n",
    "\n",
    "In the 1980s, scientists noticed that the ozone layer over Antarctica was thinning. This is often called the “ozone hole.” No one lives permanently in Antarctica. But Australia, the home of more than 22 million people, lies at the edge of the hole. In the 1990s, the Australian government began an effort to warn people of the dangers of too much sun. Many countries, including the United States, now severely limit the production of CFCs.\"\"\""
   ]
  },
  {
   "cell_type": "code",
   "execution_count": 4,
   "metadata": {
    "colab": {
     "base_uri": "https://localhost:8080/",
     "height": 34
    },
    "colab_type": "code",
    "id": "yETGU4qcsX3p",
    "outputId": "6f64bf82-934d-45fe-b510-03b1fbb82f4e"
   },
   "outputs": [
    {
     "data": {
      "text/plain": [
       "'Somet'"
      ]
     },
     "execution_count": 4,
     "metadata": {},
     "output_type": "execute_result"
    }
   ],
   "source": [
    "ngrams = {}\n",
    "n = 5\n",
    "text[0:n]"
   ]
  },
  {
   "cell_type": "code",
   "execution_count": 5,
   "metadata": {
    "colab": {
     "base_uri": "https://localhost:8080/",
     "height": 54
    },
    "colab_type": "code",
    "id": "2QKvib5Zsdw_",
    "outputId": "05996e2e-05fd-432d-8c39-8320c9f52247"
   },
   "outputs": [],
   "source": [
    "# Create the n-grams\n",
    "for i in range(len(text)-n):\n",
    "  gram = text[i:i+n]  #Mos ost\n",
    "  if gram not in ngrams.keys():\n",
    "    ngrams[gram] = []\n",
    "  ngrams[gram].append(text[i+n])"
   ]
  },
  {
   "cell_type": "code",
   "execution_count": 6,
   "metadata": {
    "colab": {},
    "colab_type": "code",
    "id": "tQiylIfQswc8"
   },
   "outputs": [],
   "source": [
    "# Testing our N-Gram Model\n",
    "currentGram = text[0:n]\n",
    "result = currentGram\n",
    "for i in range(100):\n",
    "  if currentGram not in ngrams.keys():\n",
    "    break\n",
    "  possibilities = ngrams[currentGram]\n",
    "  nextitem = possibilities[random.randrange(len(possibilities))]\n",
    "  result += nextitem\n",
    "  currentGram = result[len(result)-n: len(result)]"
   ]
  },
  {
   "cell_type": "code",
   "execution_count": 7,
   "metadata": {
    "colab": {
     "base_uri": "https://localhost:8080/",
     "height": 67
    },
    "colab_type": "code",
    "id": "RQs9YxjPtVLM",
    "outputId": "1f37628d-ac36-42ff-ce6b-e1d8e33fef54"
   },
   "outputs": [
    {
     "name": "stdout",
     "output_type": "stream",
     "text": [
      "Sometimes, are necessary for example, will all the ozone layer over Lake Nyos, Cameroon. Lake Nyos sits i 105\n"
     ]
    }
   ],
   "source": [
    "print (result, len(result))"
   ]
  },
  {
   "cell_type": "code",
   "execution_count": 0,
   "metadata": {
    "colab": {},
    "colab_type": "code",
    "id": "rTiTD9Q2xTKb"
   },
   "outputs": [],
   "source": []
  }
 ],
 "metadata": {
  "colab": {
   "name": "N-gram Character ",
   "provenance": []
  },
  "kernelspec": {
   "display_name": "Python 3",
   "language": "python",
   "name": "python3"
  },
  "language_info": {
   "codemirror_mode": {
    "name": "ipython",
    "version": 3
   },
   "file_extension": ".py",
   "mimetype": "text/x-python",
   "name": "python",
   "nbconvert_exporter": "python",
   "pygments_lexer": "ipython3",
   "version": "3.5.2"
  }
 },
 "nbformat": 4,
 "nbformat_minor": 1
}
